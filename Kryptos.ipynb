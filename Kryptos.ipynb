{
 "cells": [
  {
   "cell_type": "markdown",
   "metadata": {},
   "source": [
    "# Kryptos\n",
    "\n",
    "\n",
    "## Practical introduction to brute-force decryption of K1-K3\n",
    "*with very simple Python code and some statistics about English language* \n",
    "\n"
   ]
  },
  {
   "cell_type": "markdown",
   "metadata": {},
   "source": [
    "### Prerequisites"
   ]
  },
  {
   "cell_type": "markdown",
   "metadata": {},
   "source": [
    "Download files (count_2l.txt and count_1w.txt) from Peter Norvig's website: https://norvig.com/ngrams/\n",
    "\n",
    "These files are derived from the Google Web Trillion Word Corpus, (c) Google and free to use for educational purpose\n",
    "\n",
    "NB: if you do not have wget on your computer, you can skip the following cell and download the files manually into the current directory\n",
    "\n",
    "\n"
   ]
  },
  {
   "cell_type": "code",
   "execution_count": 1,
   "metadata": {},
   "outputs": [
    {
     "name": "stdout",
     "output_type": "stream",
     "text": [
      "--2022-01-24 21:53:03--  https://norvig.com/ngrams/count_2l.txt\n",
      "Resolving norvig.com (norvig.com)... 158.106.138.13\n",
      "Connecting to norvig.com (norvig.com)|158.106.138.13|:443... connected.\n",
      "HTTP request sent, awaiting response... 200 OK\n",
      "Length: 9270 (9.1K) [text/plain]\n",
      "Saving to: ‘count_2l.txt’\n",
      "\n",
      "count_2l.txt        100%[===================>]   9.05K  --.-KB/s    in 0s      \n",
      "\n",
      "2022-01-24 21:53:04 (47.3 MB/s) - ‘count_2l.txt’ saved [9270/9270]\n",
      "\n",
      "--2022-01-24 21:53:04--  https://norvig.com/ngrams/count_1w.txt\n",
      "Resolving norvig.com (norvig.com)... 158.106.138.13\n",
      "Connecting to norvig.com (norvig.com)|158.106.138.13|:443... connected.\n",
      "HTTP request sent, awaiting response... 200 OK\n",
      "Length: 4956241 (4.7M) [text/plain]\n",
      "Saving to: ‘count_1w.txt’\n",
      "\n",
      "count_1w.txt        100%[===================>]   4.73M  5.13MB/s    in 0.9s    \n",
      "\n",
      "2022-01-24 21:53:05 (5.13 MB/s) - ‘count_1w.txt’ saved [4956241/4956241]\n",
      "\n"
     ]
    }
   ],
   "source": [
    "!wget https://norvig.com/ngrams/count_2l.txt\n",
    "!wget https://norvig.com/ngrams/count_1w.txt\n"
   ]
  },
  {
   "cell_type": "markdown",
   "metadata": {},
   "source": [
    "### Evaluation function"
   ]
  },
  {
   "cell_type": "markdown",
   "metadata": {},
   "source": [
    "Load count_2l.txt file into a dictionnary where a bigram is key to a value that represents its number of occurences:"
   ]
  },
  {
   "cell_type": "code",
   "execution_count": 2,
   "metadata": {},
   "outputs": [],
   "source": [
    "NORM_FACTOR = 2800000 # normalization that ponders weights relatively to the rarest bigram\n",
    "with open('./count_2l.txt') as f:\n",
    "    weights = {line.split()[0].upper(): int(line.split()[1]) // NORM_FACTOR for line in f}\n"
   ]
  },
  {
   "cell_type": "markdown",
   "metadata": {},
   "source": [
    "Rarest and most frequent bigrams:"
   ]
  },
  {
   "cell_type": "code",
   "execution_count": 3,
   "metadata": {},
   "outputs": [
    {
     "name": "stdout",
     "output_type": "stream",
     "text": [
      "1\n",
      "48147\n"
     ]
    }
   ],
   "source": [
    "print(weights['JQ'])\n",
    "print(weights['IN'])"
   ]
  },
  {
   "cell_type": "markdown",
   "metadata": {},
   "source": [
    "Build a very simple evaluation function that tries to detect if a string actually contains a correct english sentence. In a single pass, a score is calculated as the addition of all bigram weights:"
   ]
  },
  {
   "cell_type": "code",
   "execution_count": 4,
   "metadata": {},
   "outputs": [],
   "source": [
    "def score(sentence):\n",
    "    duos = [sentence[i:i+2] for i in range(len(sentence) - 1)]\n",
    "    total = 0\n",
    "    for duo in duos:\n",
    "            if duo in weights: total += weights[duo]\n",
    "    return total // len(sentence)\n"
   ]
  },
  {
   "cell_type": "markdown",
   "metadata": {},
   "source": [
    "### K1"
   ]
  },
  {
   "cell_type": "markdown",
   "metadata": {},
   "source": [
    "The ciphertext is:"
   ]
  },
  {
   "cell_type": "code",
   "execution_count": 5,
   "metadata": {},
   "outputs": [],
   "source": [
    "K1 = '''\n",
    "EMUFPHZLRFAXYUSDJKZLDKRNSHGNFIVJ\n",
    "YQTQUXQBQVYUVLLTREVJYQTMKYRDMFD\n",
    "'''.replace('\\n','').replace('?','')"
   ]
  },
  {
   "cell_type": "code",
   "execution_count": 6,
   "metadata": {},
   "outputs": [
    {
     "data": {
      "text/plain": [
       "63"
      ]
     },
     "execution_count": 6,
     "metadata": {},
     "output_type": "execute_result"
    }
   ],
   "source": [
    "len(K1)"
   ]
  },
  {
   "cell_type": "markdown",
   "metadata": {},
   "source": [
    "The sculpture hints at a Vigenère table where the alphabet letters are transposed with the KRYPTOS keyword:"
   ]
  },
  {
   "cell_type": "code",
   "execution_count": 7,
   "metadata": {},
   "outputs": [],
   "source": [
    "ALPHA_K = \"KRYPTOSABCDEFGHIJLMNQUVWXZ\""
   ]
  },
  {
   "cell_type": "markdown",
   "metadata": {},
   "source": [
    "Define a utility function that builds the equivalent index, a 26-integer list indicating that for exemple the character 'A' represented by slot 0 can be found at slot 7 of the keyed alphabet:"
   ]
  },
  {
   "cell_type": "code",
   "execution_count": 8,
   "metadata": {},
   "outputs": [],
   "source": [
    "def alphabet_index(alphabet):\n",
    "    idx = [-1] * 26\n",
    "    for i, letter in enumerate(alphabet):\n",
    "        idx[ord(letter) - ord('A')] = i\n",
    "    return idx\n"
   ]
  },
  {
   "cell_type": "markdown",
   "metadata": {},
   "source": [
    "Both will be passed to the Vigenère function:"
   ]
  },
  {
   "cell_type": "code",
   "execution_count": 9,
   "metadata": {},
   "outputs": [],
   "source": [
    "K = (ALPHA_K, alphabet_index(ALPHA_K))\n"
   ]
  },
  {
   "cell_type": "markdown",
   "metadata": {},
   "source": [
    "Define the Vigenère function. The key is used to shift the keyed alphabet:"
   ]
  },
  {
   "cell_type": "code",
   "execution_count": 10,
   "metadata": {},
   "outputs": [],
   "source": [
    "def vigenere(alphabet, key, ciphertext):\n",
    "    plaintext = ''\n",
    "    letters, idx = alphabet\n",
    "    for i, letter in enumerate(ciphertext):\n",
    "        p = key[i % len(key)]\n",
    "        offset = idx[ord(p) - ord('A')]\n",
    "        l = letters[(idx[ord(letter) - ord('A')] + 26 - offset) % 26]\n",
    "        plaintext += l\n",
    "    return plaintext\n"
   ]
  },
  {
   "cell_type": "markdown",
   "metadata": {},
   "source": [
    "Load count_1w.txt file into a list of english words, truncated to 150000 most frequent words:"
   ]
  },
  {
   "cell_type": "code",
   "execution_count": 11,
   "metadata": {},
   "outputs": [],
   "source": [
    "with open('./count_1w.txt') as f:\n",
    "    words = [line.split()[0].upper() for line in f][:150000]\n"
   ]
  },
  {
   "cell_type": "markdown",
   "metadata": {},
   "source": [
    "Make the assumption that the keyword is at least 8-character long. It will cut the possibilities in half:"
   ]
  },
  {
   "cell_type": "code",
   "execution_count": 12,
   "metadata": {},
   "outputs": [
    {
     "data": {
      "text/plain": [
       "63883"
      ]
     },
     "execution_count": 12,
     "metadata": {},
     "output_type": "execute_result"
    }
   ],
   "source": [
    "long_words = [w for w in words if len(w) > 7]\n",
    "len(long_words)"
   ]
  },
  {
   "cell_type": "markdown",
   "metadata": {},
   "source": [
    "Apply the Vigenère function with all the possible keywords and calculate the score of each output string:"
   ]
  },
  {
   "cell_type": "code",
   "execution_count": 13,
   "metadata": {},
   "outputs": [],
   "source": [
    "s = [score(vigenere(K, candidate, K1)) for candidate in long_words]"
   ]
  },
  {
   "cell_type": "markdown",
   "metadata": {},
   "source": [
    "Look for the max score and then for the corresponding word:"
   ]
  },
  {
   "cell_type": "code",
   "execution_count": 14,
   "metadata": {},
   "outputs": [
    {
     "data": {
      "text/plain": [
       "'PALIMPSEST'"
      ]
     },
     "execution_count": 14,
     "metadata": {},
     "output_type": "execute_result"
    }
   ],
   "source": [
    "keyword = long_words[s.index(max(s))]\n",
    "keyword"
   ]
  },
  {
   "cell_type": "markdown",
   "metadata": {},
   "source": [
    "Word PALIMPSEST looks like the best candidate. Verify if this keyword actually produce a correct sentence:"
   ]
  },
  {
   "cell_type": "code",
   "execution_count": 15,
   "metadata": {},
   "outputs": [
    {
     "data": {
      "text/plain": [
       "'BETWEENSUBTLESHADINGANDTHEABSENCEOFLIGHTLIESTHENUANCEOFIQLUSION'"
      ]
     },
     "execution_count": 15,
     "metadata": {},
     "output_type": "execute_result"
    }
   ],
   "source": [
    "vigenere(K, keyword, K1)"
   ]
  },
  {
   "cell_type": "markdown",
   "metadata": {},
   "source": [
    "\n",
    "> *Between subtle shading and the absence of light lies the nuance of illusion*"
   ]
  },
  {
   "cell_type": "markdown",
   "metadata": {},
   "source": [
    "### K2"
   ]
  },
  {
   "cell_type": "markdown",
   "metadata": {},
   "source": [
    "K1 has shown that 60 characters is enough to calculate a useful score. K2 is very similar to K1: apply the same logic while truncating K2 in orderto speed up the process."
   ]
  },
  {
   "cell_type": "code",
   "execution_count": 16,
   "metadata": {},
   "outputs": [],
   "source": [
    "K2 = '''\n",
    "VFPJUDEEHZWETZYVGWHKKQETGFQJNCE\n",
    "GGWHKK?DQMCPFQZDQMMIAGPFXHQRLG\n",
    "TIMVMZJANQLVKQEDAGDVFRPJUNGEUNA\n",
    "QZGZLECGYUXUEENJTBJLBQCRTBJDFHRR\n",
    "YIZETKZEMVDUFKSJHKFWHKUWQLSZFTI\n",
    "HHDDDUVH?DWKBFUFPWNTDFIYCUQZERE\n",
    "EVLDKFEZMOQQJLTTUGSYQPFEUNLAVIDX\n",
    "FLGGTEZ?FKZBSFDQVGOGIPUFXHHDRKF\n",
    "FHQNTGPUAECNUVPDJMQCLQUMUNEDFQ\n",
    "ELZZVRRGKFFVOEEXBDMVPNFQXEZLGRE\n",
    "DNQFMPNZGLFLPMRJQYALMGNUVPDXVKP\n",
    "DQUMEBEDMHDAFMJGZNUPLGESWJLLAETG\n",
    "'''.replace('\\n','').replace('?','')"
   ]
  },
  {
   "cell_type": "code",
   "execution_count": 17,
   "metadata": {},
   "outputs": [
    {
     "data": {
      "text/plain": [
       "'ABSCISSA'"
      ]
     },
     "execution_count": 17,
     "metadata": {},
     "output_type": "execute_result"
    }
   ],
   "source": [
    "s = [score(vigenere(K, candidate, K2[:60])) for candidate in long_words]\n",
    "keyword = long_words[s.index(max(s))]\n",
    "keyword"
   ]
  },
  {
   "cell_type": "code",
   "execution_count": 18,
   "metadata": {},
   "outputs": [
    {
     "data": {
      "text/plain": [
       "'ITWASTOTALLYINVISIBLEHOWSTHATPOSSIBLETHEYUSEDTHEEARTHSMAGNETICFIELDXTHEINFORMATIONWASGATHEREDANDTRANSMITTEDUNDERGRUUNDTOANUNKNOWNLOCATIONXDOESLANGLEYKNOWABOUTTHISTHEYSHOULDITSBURIEDOUTTHERESOMEWHEREXWHOKNOWSTHEEXACTLOCATIONONLYWWTHISWASHISLASTMESSAGEXTHIRTYEIGHTDEGREESFIFTYSEVENMINUTESSIXPOINTFIVESECONDSNORTHSEVENTYSEVENDEGREESEIGHTMINUTESFORTYFOURSECONDSWESTXLAYERTWO'"
      ]
     },
     "execution_count": 18,
     "metadata": {},
     "output_type": "execute_result"
    }
   ],
   "source": [
    "vigenere(K, keyword, K2)"
   ]
  },
  {
   "cell_type": "markdown",
   "metadata": {},
   "source": [
    "> *It was totally invisible (...)*"
   ]
  },
  {
   "cell_type": "markdown",
   "metadata": {},
   "source": [
    "### K3"
   ]
  },
  {
   "cell_type": "markdown",
   "metadata": {},
   "source": [
    "K3 is a transposition. Letters are not not obfuscated using a keyed alphabet: they are shifted/reordered with a pattern."
   ]
  },
  {
   "cell_type": "code",
   "execution_count": 19,
   "metadata": {},
   "outputs": [],
   "source": [
    "K3 = '''\n",
    "ENDYAHROHNLSRHEOCPTEOIBIDYSHNAIA\n",
    "CHTNREYULDSLLSLLNOHSNOSMRWXMNE\n",
    "TPRNGATIHNRARPESLNNELEBLPIIACAE\n",
    "WMTWNDITEENRAHCTENEUDRETNHAEOE\n",
    "TFOLSEDTIWENHAEIOYTEYQHEENCTAYCR\n",
    "EIFTBRSPAMHHEWENATAMATEGYEERLB\n",
    "TEEFOASFIOTUETUAEOTOARMAEERTNRTI\n",
    "BSEDDNIAAHTTMSTEWPIEROAGRIEWFEB\n",
    "AECTDDHILCEIHSITEGOEAOSDDRYDLORIT\n",
    "RKLMLEHAGTDHARDPNEOHMGFMFEUHE\n",
    "ECDMRIPFEIMEHNLSSTTRTVDOHW?\n",
    "'''.replace('\\n','')\n"
   ]
  },
  {
   "cell_type": "markdown",
   "metadata": {},
   "source": [
    "Define a transposition function that simply shifts letters using a serie of indexes built with modular artithmetic.\n",
    "For example, if the length of the text is 11 and the chosen key step is 7, for the first 3 letters the indexes are :\n",
    "- 6 (the 7th letter)\n",
    "- 2 (6 + 7 mod 11)\n",
    "- 9 (6 + 2*7 mod 11)\n",
    "```\n",
    "\"ABCDEFGHIJK\" => \"GCJFBIEAHDK\"\n",
    "   2   6  9       629\n",
    "```\n",
    "etc..."
   ]
  },
  {
   "cell_type": "code",
   "execution_count": 20,
   "metadata": {},
   "outputs": [],
   "source": [
    "def transposition(step, ciphertext):\n",
    "    plaintext = ''\n",
    "    size = len(ciphertext)\n",
    "    for i in range(size):\n",
    "        plaintext += ciphertext[(step - 1 + i * step) % size]\n",
    "    return plaintext\n"
   ]
  },
  {
   "cell_type": "code",
   "execution_count": 21,
   "metadata": {},
   "outputs": [],
   "source": [
    "s = [score(transposition(i, K3)) for i in range(len(K3))]"
   ]
  },
  {
   "cell_type": "code",
   "execution_count": 22,
   "metadata": {},
   "outputs": [
    {
     "data": {
      "text/plain": [
       "192"
      ]
     },
     "execution_count": 22,
     "metadata": {},
     "output_type": "execute_result"
    }
   ],
   "source": [
    "shift_number = s.index(max(s))\n",
    "shift_number"
   ]
  },
  {
   "cell_type": "code",
   "execution_count": 23,
   "metadata": {},
   "outputs": [
    {
     "data": {
      "text/plain": [
       "'SLOWLYDESPARATLYSLOWLYTHEREMAINSOFPASSAGEDEBRISTHATENCUMBEREDTHELOWERPARTOFTHEDOORWAYWASREMOVEDWITHTREMBLINGHANDSIMADEATINYBREACHINTHEUPPERLEFTHANDCORNERANDTHENWIDENINGTHEHOLEALITTLEIINSERTEDTHECANDLEANDPEEREDINTHEHOTAIRESCAPINGFROMTHECHAMBERCAUSEDTHEFLAMETOFLICKERBUTPRESENTLYDETAILSOFTHEROOMWITHINEMERGEDFROMTHEMISTXCANYOUSEEANYTHINGQ?'"
      ]
     },
     "execution_count": 23,
     "metadata": {},
     "output_type": "execute_result"
    }
   ],
   "source": [
    "transposition(shift_number, K3)"
   ]
  },
  {
   "cell_type": "markdown",
   "metadata": {},
   "source": [
    "> *Slowly desperatly slowly (...)*"
   ]
  },
  {
   "cell_type": "markdown",
   "metadata": {},
   "source": [
    "These words may relate to the progress made on K4 for the last 20 years ;-) "
   ]
  }
 ],
 "metadata": {
  "interpreter": {
   "hash": "6ed50e031d0492194b9067bc0a077f0b951fecbcd260ad4508c074fa8de92fbd"
  },
  "kernelspec": {
   "display_name": "Python 3.9.2 64-bit ('.venv': venv)",
   "language": "python",
   "name": "python3"
  },
  "language_info": {
   "codemirror_mode": {
    "name": "ipython",
    "version": 3
   },
   "file_extension": ".py",
   "mimetype": "text/x-python",
   "name": "python",
   "nbconvert_exporter": "python",
   "pygments_lexer": "ipython3",
   "version": "3.9.2"
  },
  "orig_nbformat": 4
 },
 "nbformat": 4,
 "nbformat_minor": 2
}
